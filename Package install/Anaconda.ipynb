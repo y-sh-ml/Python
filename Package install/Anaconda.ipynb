{
 "cells": [
  {
   "cell_type": "markdown",
   "id": "fe2387ad",
   "metadata": {},
   "source": [
    "## Anaconda 設定方法"
   ]
  },
  {
   "cell_type": "code",
   "execution_count": null,
   "id": "2ab8f69d-2271-4302-800c-8209ccfd88a1",
   "metadata": {},
   "outputs": [],
   "source": [
    "# conda install anaconda-clean"
   ]
  },
  {
   "cell_type": "code",
   "execution_count": null,
   "id": "8b4dabf3-44cb-4c8c-8007-6efe6f565d62",
   "metadata": {},
   "outputs": [],
   "source": [
    "# anaconda-clean --yes"
   ]
  },
  {
   "cell_type": "markdown",
   "id": "c1fd921a",
   "metadata": {},
   "source": [
    "### 手順"
   ]
  },
  {
   "cell_type": "markdown",
   "id": "a33eca0f",
   "metadata": {},
   "source": [
    "1. Anaconda のインストール方法で「自分専用にインストール」を選択する"
   ]
  },
  {
   "cell_type": "markdown",
   "id": "e1ce12da",
   "metadata": {},
   "source": [
    "2. Anaconda の bin フォルダを右クリックして、`option` キーを押して、パスをコピーする"
   ]
  },
  {
   "cell_type": "markdown",
   "id": "f5ee0414",
   "metadata": {},
   "source": [
    "3. ホームディレクトリに移動して、`shift` + `command` + `.` で隠れファイルを表示する<br>\n",
    "ファイル「.zshrc」 を開き、パスを通すために、以下を記入する"
   ]
  },
  {
   "cell_type": "code",
   "execution_count": null,
   "id": "033f5cfa",
   "metadata": {},
   "outputs": [],
   "source": [
    "# export PATH={コピーしたパス}:$PATH\n",
    "# export PATH=/Users/yuta.shimizu/opt/anaconda3/bin:$PATH"
   ]
  },
  {
   "cell_type": "markdown",
   "id": "71e5a5b8",
   "metadata": {},
   "source": [
    "4. ターミナルで、更新内容を確定する（Mac のアップデートにより、シェルが bash から zsh に移行）"
   ]
  },
  {
   "cell_type": "code",
   "execution_count": null,
   "id": "e88140a5",
   "metadata": {},
   "outputs": [],
   "source": [
    "# source ~/.zshrc"
   ]
  },
  {
   "cell_type": "markdown",
   "id": "3b42f8fe",
   "metadata": {},
   "source": [
    "5. conda のバージョンを確認する"
   ]
  },
  {
   "cell_type": "code",
   "execution_count": null,
   "id": "fbcbb0b5",
   "metadata": {},
   "outputs": [],
   "source": [
    "# conda --version"
   ]
  },
  {
   "cell_type": "markdown",
   "id": "6dd84fa3",
   "metadata": {},
   "source": [
    "### 注意"
   ]
  },
  {
   "cell_type": "markdown",
   "id": "d5ca53fc",
   "metadata": {},
   "source": [
    "・Anaconda は他パッケージ（Homebrew など）と競合するので、気を付ける必要がある"
   ]
  },
  {
   "cell_type": "markdown",
   "id": "0ff0da15",
   "metadata": {},
   "source": [
    "### 参考"
   ]
  },
  {
   "cell_type": "markdown",
   "id": "3c895953",
   "metadata": {},
   "source": [
    "・[Anaconda完全アンインストール：手順と注意点](https://beginner-engineers.com/uninstall-anaconda/)<br>\n",
    "・[Anaconda（Python3）インストール手順](https://sukkiri.jp/technologies/ides/anaconda-mac_install.html)<br>\n",
    "・[AnacondaのPATHを通す](https://timappleblog.com/2019path-anaconda/)<br>\n",
    "・[AnacondaをインストールしてPython環境の構築](https://tech-diary.net/anaconda-install/)<br>"
   ]
  }
 ],
 "metadata": {
  "kernelspec": {
   "display_name": "Python 3 (ipykernel)",
   "language": "python",
   "name": "python3"
  },
  "language_info": {
   "codemirror_mode": {
    "name": "ipython",
    "version": 3
   },
   "file_extension": ".py",
   "mimetype": "text/x-python",
   "name": "python",
   "nbconvert_exporter": "python",
   "pygments_lexer": "ipython3",
   "version": "3.13.5"
  }
 },
 "nbformat": 4,
 "nbformat_minor": 5
}
